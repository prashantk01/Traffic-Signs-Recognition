{
  "nbformat": 4,
  "nbformat_minor": 0,
  "metadata": {
    "colab": {
      "name": "pk_major.ipynb",
      "provenance": []
    },
    "kernelspec": {
      "display_name": "Python 3",
      "name": "python3"
    }
  },
  "cells": [
    {
      "cell_type": "markdown",
      "metadata": {
        "id": "rmKDETnDQ_1r"
      },
      "source": [
        "\n",
        "Subject - Major Project (Part-I)                               \n",
        "Subject code - COC4980     \n",
        "**Traffic Sign Detection and Recognition**               \n",
        "by-       \n",
        "Prashant Kumar (17COB020)                                      \n",
        "Padam Prakash  (17COB008)"
      ]
    },
    {
      "cell_type": "code",
      "metadata": {
        "id": "IwRDo6jpTPos"
      },
      "source": [
        "# your code here"
      ],
      "execution_count": null,
      "outputs": []
    },
    {
      "cell_type": "markdown",
      "metadata": {
        "id": "mguZE7Tiz0do"
      },
      "source": [
        "**Step 1: Environment Setup** \n",
        "\n",
        "1(a): **Import python libraries**"
      ]
    },
    {
      "cell_type": "code",
      "metadata": {
        "id": "OpWFP3dTz3mk"
      },
      "source": [
        "import numpy as np\n",
        "import pandas as pd\n",
        "import cv2\n",
        "import os\n",
        "import csv\n",
        "import pickle"
      ],
      "execution_count": null,
      "outputs": []
    },
    {
      "cell_type": "markdown",
      "metadata": {
        "id": "DcWEq3Fqy9BH"
      },
      "source": [
        "1(b): **mount drive**"
      ]
    },
    {
      "cell_type": "code",
      "metadata": {
        "colab": {
          "base_uri": "https://localhost:8080/"
        },
        "id": "ieVUJ0CC1D2s",
        "outputId": "46d7a3c0-483e-4f80-83d3-96730545a00e"
      },
      "source": [
        "from google.colab import drive\n",
        "drive.mount('/content/drive')"
      ],
      "execution_count": null,
      "outputs": [
        {
          "output_type": "stream",
          "text": [
            "Mounted at /content/drive\n"
          ],
          "name": "stdout"
        }
      ]
    },
    {
      "cell_type": "markdown",
      "metadata": {
        "id": "suhcl_LU0igH"
      },
      "source": [
        " Step 2: **Load dataset from drive** "
      ]
    },
    {
      "cell_type": "code",
      "metadata": {
        "id": "EgjiljHlzN4R"
      },
      "source": [
        "# storing files path from drive\n",
        "testing_bin_file=\"/content/drive/My Drive/CODING/GTSC Major /test.p\"\n",
        "training_bin_file=\"/content/drive/My Drive/CODING/GTSC Major /train.p\"\n",
        "validation_bin_file=\"/content/drive/My Drive/CODING/GTSC Major /valid.p\"\n",
        "\n",
        "#  parsing dataset file in binary mode 'rb' with file location\n",
        "with open(validation_bin_file, mode='rb') as bin:   \n",
        "    valid = pickle.load(bin)\n",
        "with open(testing_bin_file, mode='rb') as bin:\n",
        "    test = pickle.load(bin)\n",
        "with open(training_bin_file, mode='rb') as bin:\n",
        "    train = pickle.load(bin)\n",
        "\n",
        "# list of traffic sign names \n",
        "lables=['Speed limit (20km/h)','Speed limit (30km/h)','Speed limit (50km/h)',\n",
        "        'Speed limit (60km/h)','Speed limit (70km/h)','Speed limit (80km/h)',\n",
        "        'End of speed limit (80km/h)','Speed limit (100km/h)','Speed limit (120km/h)',\n",
        "        'No passing','No passing for vehicles over 3.5 metric tons','Right-of-way at the next intersection',\n",
        "        'Priority road','Yield','Stop','No vehicles','Vehicles over 3.5 metric tons prohibited','No entry',\n",
        "        'General caution','Dangerous curve to the left','Dangerous curve to the right','Double curve',\n",
        "        'Bumpy road','Slippery road','Road narrows on the right','Road work','Traffic signals','Pedestrians',\n",
        "        'Children crossing','Bicycles crossing','Beware of ice/snow','Wild animals crossing',\n",
        "        'End of all speed and passing limits','Turn right ahead','Turn left ahead','Ahead only',\n",
        "        'Go straight or right','Go straight or left','Keep right','Keep left','Roundabout mandatory',\n",
        "        'End of no passing','End of no passing by vehicles over 3.5 metric tons']\n",
        "\n",
        "# len(lables)"
      ],
      "execution_count": null,
      "outputs": []
    },
    {
      "cell_type": "markdown",
      "metadata": {
        "id": "fDqFi0YQA4yO"
      },
      "source": [
        "**Step 3: Dataset**\n",
        "\n",
        "3.1 dataset detail"
      ]
    },
    {
      "cell_type": "code",
      "metadata": {
        "colab": {
          "base_uri": "https://localhost:8080/"
        },
        "id": "ym1VBjyX1r-_",
        "outputId": "0727b824-ae12-4a0b-eba4-ebf11d616faa"
      },
      "source": [
        "# train dataset\n",
        "print('training set: ')\n",
        "print(train.keys())\n",
        "print(\"coords \",train['coords'].shape)\n",
        "print(\"labels \",train['labels'].shape)\n",
        "print(\"sizes \",train['sizes'].shape)\n",
        "print(\"feature \",train['features'].shape)\n",
        "# print(train['features'][0])\n",
        "\n",
        "print('\\nvalidation set: ')\n",
        "print(valid.keys())\n",
        "print(\"coords \",valid['coords'].shape)\n",
        "print(\"labels \",valid['labels'].shape)\n",
        "print(\"sizes \",valid['sizes'].shape)\n",
        "print(\"feature \",valid['features'].shape)\n",
        "# print(valid['features'][0])\n",
        "\n",
        "print('\\ntest set: ')\n",
        "print(test.keys())\n",
        "print(\"coords \",test['coords'].shape)\n",
        "print(\"labels \",test['labels'].shape)\n",
        "print(\"sizes \",test['sizes'].shape)\n",
        "print(\"feature \",test['features'].shape)\n",
        "# print(test['features'][0])"
      ],
      "execution_count": null,
      "outputs": [
        {
          "output_type": "stream",
          "text": [
            "training set: \n",
            "dict_keys(['coords', 'labels', 'features', 'sizes'])\n",
            "coords  (34799, 4)\n",
            "labels  (34799,)\n",
            "sizes  (34799, 2)\n",
            "feature  (34799, 32, 32, 3)\n",
            "\n",
            "validation set: \n",
            "dict_keys(['coords', 'labels', 'features', 'sizes'])\n",
            "coords  (4410, 4)\n",
            "labels  (4410,)\n",
            "sizes  (4410, 2)\n",
            "feature  (4410, 32, 32, 3)\n",
            "\n",
            "test set: \n",
            "dict_keys(['sizes', 'coords', 'features', 'labels'])\n",
            "coords  (12630, 4)\n",
            "labels  (12630,)\n",
            "sizes  (12630, 2)\n",
            "feature  (12630, 32, 32, 3)\n"
          ],
          "name": "stdout"
        }
      ]
    },
    {
      "cell_type": "markdown",
      "metadata": {
        "id": "wTYjgJRugkXd"
      },
      "source": [
        "3.2 split into train, test and validation"
      ]
    },
    {
      "cell_type": "code",
      "metadata": {
        "colab": {
          "base_uri": "https://localhost:8080/"
        },
        "id": "qJLJ3bWQCefC",
        "outputId": "416cbbac-87fa-4439-eec9-ebb1ea1ee342"
      },
      "source": [
        "# training\n",
        "x_train=train['features']\n",
        "y_train=train['labels']\n",
        "print(x_train.shape,y_train.shape)\n",
        "# testing \n",
        "x_test=test['features']\n",
        "y_test=test['labels']\n",
        "print(x_test.shape,y_test.shape)\n",
        "# validation\n",
        "x_valid=valid['features']\n",
        "y_valid=valid['labels']\n",
        "print(x_valid.shape,y_valid.shape)"
      ],
      "execution_count": null,
      "outputs": [
        {
          "output_type": "stream",
          "text": [
            "(34799, 32, 32, 3) (34799,)\n",
            "(12630, 32, 32, 3) (12630,)\n",
            "(4410, 32, 32, 3) (4410,)\n"
          ],
          "name": "stdout"
        }
      ]
    },
    {
      "cell_type": "markdown",
      "metadata": {
        "id": "psrfHxJXWlKI"
      },
      "source": [
        "3.3 Plotting some images from each category"
      ]
    },
    {
      "cell_type": "code",
      "metadata": {
        "id": "tcDw47uLzpww"
      },
      "source": [
        "import matplotlib.pyplot as plt\n",
        "import random\n",
        "\n",
        "def plot_image(x,y,lab,cmap):\n",
        "    plt.figure(figsize=(20,18))\n",
        "    for i in range(5):\n",
        "        plt.subplot(1,5,i+1)\n",
        "        ind = random.randint(0, len(x))\n",
        "        cmap = 'gray' if len(x[ind].shape) == 2 else cmap\n",
        "        plt.imshow(x[ind], cmap = cmap)\n",
        "        plt.xlabel(lables[y[ind]])\n",
        "        plt.ylabel(lab)\n",
        "        plt.xticks([])\n",
        "        plt.yticks([])\n",
        "    # plt.tight_layout(pad=0, h_pad=0, w_pad=0)\n",
        "    plt.show()"
      ],
      "execution_count": null,
      "outputs": []
    },
    {
      "cell_type": "code",
      "metadata": {
        "colab": {
          "base_uri": "https://localhost:8080/",
          "height": 577
        },
        "id": "DBjvyewtXWOr",
        "outputId": "cd1d38ec-6815-48e7-a792-f25d1424ea8a"
      },
      "source": [
        "# plotting for different categories\n",
        "plot_image(x_train,y_train,\"training dataset\",None)\n",
        "plot_image(x_valid,y_valid,\"validation dataset\",None)\n",
        "plot_image(x_test,y_test,\"testing dataset\",None)"
      ],
      "execution_count": null,
      "outputs": [
        {
          "output_type": "display_data",
          "data": {
            "image/png": "[encoded data removed]",
            "text/plain": [
              "<Figure size 1440x1296 with 5 Axes>"
            ]
          },
          "metadata": {
            "tags": []
          }
        },
        {
          "output_type": "display_data",
          "data": {
            "image/png": "[encoded data removed]",
            "text/plain": [
              "<Figure size 1440x1296 with 5 Axes>"
            ]
          },
          "metadata": {
            "tags": []
          }
        },
        {
          "output_type": "display_data",
          "data": {
            "image/png": "[encoded data removed]",
            "text/plain": [
              "<Figure size 1440x1296 with 5 Axes>"
            ]
          },
          "metadata": {
            "tags": []
          }
        }
      ]
    },
    {
      "cell_type": "markdown",
      "metadata": {
        "id": "lO6m1osym086"
      },
      "source": [
        "3.4 we will use numpy to plot a histogram of the count of images in each unique class"
      ]
    },
    {
      "cell_type": "code",
      "metadata": {
        "id": "3GtVI_UwY5a5"
      },
      "source": [
        "def histogram_plot(dataset, label):\n",
        "    hist, bins = np.histogram(dataset, bins=43)\n",
        "    width = 0.7 * (bins[1] - bins[0])\n",
        "    center = (bins[:-1] + bins[1:]) / 2\n",
        "    plt.bar(center, hist, align='center', width=width)\n",
        "    plt.xlabel(label)\n",
        "    plt.ylabel(\"Image count\")\n",
        "    plt.show()"
      ],
      "execution_count": null,
      "outputs": []
    },
    {
      "cell_type": "code",
      "metadata": {
        "colab": {
          "base_uri": "https://localhost:8080/",
          "height": 806
        },
        "id": "9lvu7dCGnAZl",
        "outputId": "a3480496-6c71-4563-d825-822c9cc11eb0"
      },
      "source": [
        "# Plotting histograms of the count of each sign\n",
        "histogram_plot(y_train, \"Training examples\")\n",
        "histogram_plot(y_test, \"Testing examples\")\n",
        "histogram_plot(y_valid, \"Validation examples\")"
      ],
      "execution_count": null,
      "outputs": [
        {
          "output_type": "display_data",
          "data": {
            "image/png": "[encoded data removed]",
            "text/plain": [
              "<Figure size 432x288 with 1 Axes>"
            ]
          },
          "metadata": {
            "tags": [],
            "needs_background": "light"
          }
        },
        {
          "output_type": "display_data",
          "data": {
            "image/png": "[encoded data removed]",
            "text/plain": [
              "<Figure size 432x288 with 1 Axes>"
            ]
          },
          "metadata": {
            "tags": [],
            "needs_background": "light"
          }
        },
        {
          "output_type": "display_data",
          "data": {
            "image/png": "[encoded data removed]",
            "text/plain": [
              "<Figure size 432x288 with 1 Axes>"
            ]
          },
          "metadata": {
            "tags": [],
            "needs_background": "light"
          }
        }
      ]
    },
    {
      "cell_type": "markdown",
      "metadata": {
        "id": "LAoK5pubEVy6"
      },
      "source": [
        "**4. DATA PROCESSING**\n",
        "\n",
        "4.1 Shuffling.   \n",
        "4.2 Grayscaling.   \n",
        "4.3 Local Histogram Equalization.   \n",
        "4.4 Normalization."
      ]
    },
    {
      "cell_type": "markdown",
      "metadata": {
        "id": "ft4yOuyxG3_t"
      },
      "source": [
        "4.1 Shuffle "
      ]
    },
    {
      "cell_type": "code",
      "metadata": {
        "colab": {
          "base_uri": "https://localhost:8080/"
        },
        "id": "tx2BAJ8knA6X",
        "outputId": "74d8877c-cb5f-4bfe-83ad-2b77c6a327c8"
      },
      "source": [
        "# shuffling\n",
        "from sklearn.utils import shuffle\n",
        "# before shuffling\n",
        "print(\"Before shuffling: \")\n",
        "print(y_train[0])\n",
        "print(x_train[0][0][:2])\n",
        "x_train,y_train=shuffle(x_train,y_train)\n",
        "x_valid,y_valid=shuffle(x_valid,y_valid)\n",
        "# after shuffling\n",
        "print(\"\\nAfter shuffling: \")\n",
        "print(y_train[0])\n",
        "print(x_train[0][0][:2])"
      ],
      "execution_count": null,
      "outputs": [
        {
          "output_type": "stream",
          "text": [
            "Before shuffling: \n",
            "41\n",
            "[[28 25 24]\n",
            " [27 24 23]]\n",
            "\n",
            "After shuffling: \n",
            "30\n",
            "[[143 161 196]\n",
            " [142 162 196]]\n"
          ],
          "name": "stdout"
        }
      ]
    },
    {
      "cell_type": "markdown",
      "metadata": {
        "id": "fKqeY2J-nlNe"
      },
      "source": [
        "4.2 **GrayScaling**"
      ]
    },
    {
      "cell_type": "code",
      "metadata": {
        "id": "8-7EQMvEnsin"
      },
      "source": [
        "def convert_to_gray_scale(image):\n",
        "    # Convert images to gray scale.\n",
        "    # Parameters:\n",
        "    # image: An np.array compatible with plt.imshow.\n",
        "    return cv2.cvtColor(image, cv2.COLOR_RGB2GRAY)"
      ],
      "execution_count": null,
      "outputs": []
    },
    {
      "cell_type": "code",
      "metadata": {
        "colab": {
          "base_uri": "https://localhost:8080/",
          "height": 204
        },
        "id": "KJcOqhA-oLC5",
        "outputId": "bc683100-f2c6-4cb9-cdec-812ac6e5f493"
      },
      "source": [
        "# Sample images after greyscaling\n",
        "gray_images_x_train = list(map(convert_to_gray_scale, x_train))\n",
        "plot_image(gray_images_x_train, y_train, \"Gray Scaled image\", \"gray\")"
      ],
      "execution_count": null,
      "outputs": [
        {
          "output_type": "display_data",
          "data": {
            "image/png": "[encoded data removed]",
            "text/plain": [
              "<Figure size 1440x1296 with 5 Axes>"
            ]
          },
          "metadata": {
            "tags": []
          }
        }
      ]
    },
    {
      "cell_type": "markdown",
      "metadata": {
        "id": "NgYJrdjPqzZO"
      },
      "source": [
        "4.3 **Local Histogram Equalization**"
      ]
    },
    {
      "cell_type": "code",
      "metadata": {
        "id": "_eBmLnhRo7oz"
      },
      "source": [
        "import skimage.morphology as morp\n",
        "from skimage.filters import rank\n",
        "def local_histogram_equalize(image):\n",
        "    # Apply local histogram equalization to grayscale images.\n",
        "    # Parameters:\n",
        "    # image: A grayscale image.\n",
        "    kernel = morp.disk(30)\n",
        "    img_local = rank.equalize(image, selem=kernel)\n",
        "    return img_local"
      ],
      "execution_count": null,
      "outputs": []
    },
    {
      "cell_type": "code",
      "metadata": {
        "colab": {
          "base_uri": "https://localhost:8080/",
          "height": 204
        },
        "id": "QxFwjv4trXLO",
        "outputId": "4311a15f-c5c7-412d-baf4-891059fe15e6"
      },
      "source": [
        "# Sample images after Local Histogram Equalization\n",
        "equalized_images_x_train = list(map(local_histogram_equalize, gray_images_x_train))\n",
        "plot_image(equalized_images_x_train, y_train, \"Equalized Image\", \"gray\")"
      ],
      "execution_count": null,
      "outputs": [
        {
          "output_type": "display_data",
          "data": {
            "image/png": "[encoded data removed]",
            "text/plain": [
              "<Figure size 1440x1296 with 5 Axes>"
            ]
          },
          "metadata": {
            "tags": []
          }
        }
      ]
    },
    {
      "cell_type": "markdown",
      "metadata": {
        "id": "mEr88rUGwWLn"
      },
      "source": [
        "4.4 **Normalization**"
      ]
    },
    {
      "cell_type": "code",
      "metadata": {
        "id": "22yk7-ERrjWF"
      },
      "source": [
        "def normalize_image(image):\n",
        "    # Normalize images to [0, 1] scale.\n",
        "    # Parameters:\n",
        "    # image: An np.array compatible with plt.imshow.\n",
        "    image = np.divide(image, 255)\n",
        "    return image"
      ],
      "execution_count": null,
      "outputs": []
    },
    {
      "cell_type": "code",
      "metadata": {
        "colab": {
          "base_uri": "https://localhost:8080/",
          "height": 204
        },
        "id": "MLbQ8W4gw44n",
        "outputId": "6d60eee3-2835-4792-bfae-efb3f345f92b"
      },
      "source": [
        "# Sample images after normalization\n",
        "n_training = x_train.shape\n",
        "normalized_images = np.zeros((n_training[0], n_training[1], n_training[2]))\n",
        "for i, img in enumerate(equalized_images_x_train):\n",
        "    normalized_images[i] = normalize_image(img)\n",
        "plot_image(normalized_images, y_train, \"Normalized Image\", \"gray\")\n",
        "normalized_images = normalized_images[..., None]"
      ],
      "execution_count": null,
      "outputs": [
        {
          "output_type": "display_data",
          "data": {
            "image/png": "[encoded data removed]",
            "text/plain": [
              "<Figure size 1440x1296 with 5 Axes>"
            ]
          },
          "metadata": {
            "tags": []
          }
        }
      ]
    },
    {
      "cell_type": "code",
      "metadata": {
        "id": "M6GoCTVF0P_z"
      },
      "source": [
        "def preprocess(data):\n",
        "    # Applying the preprocessing steps to the input data.\n",
        "    # Parameters:\n",
        "    # data: An np.array compatible with plt.imshow.\n",
        "    gray_images = list(map(convert_to_gray_scale, data))\n",
        "    equalized_images = list(map(local_histogram_equalize, gray_images))\n",
        "    n_training = data.shape\n",
        "    normalized_images = np.zeros((n_training[0], n_training[1], n_training[2]))\n",
        "    for i, img in enumerate(equalized_images):\n",
        "        normalized_images[i] = normalize_image(img)\n",
        "    normalized_images = normalized_images[..., None]\n",
        "    return normalized_images"
      ],
      "execution_count": null,
      "outputs": []
    },
    {
      "cell_type": "markdown",
      "metadata": {
        "id": "XR-o5sxK48K2"
      },
      "source": [
        "5. **MODEL / ARCHITECTURE**\n",
        "\n",
        "\n"
      ]
    },
    {
      "cell_type": "markdown",
      "metadata": {
        "id": "ZxtrAGY877iQ"
      },
      "source": [
        "**5.1** **LeNet-5** :  \n",
        "LeNet-5 is a convolutional network designed for handwritten and machine-printed character recognition. It was introduced by the famous Yann LeCun in his paper Gradient-Based Learning Applied to Document Recognition in 1998. Although this ConvNet is intended to classify hand-written digits, we're confident it have a very high accuracy when dealing with traffic signs, given that both hand-written digits and traffic signs are given to the computer in the form of pixel images.\n",
        "\n",
        "LeNet-5 architecture:\n",
        "\n",
        "This ConvNet follows these steps:\n",
        "\n",
        "Input => Convolution => ReLU => Pooling => Convolution => ReLU => Pooling => FullyConnected => ReLU => FullyConnected\n",
        "\n",
        "Layer 1 (Convolutional): The output shape should be 28x28x6.\n",
        "\n",
        "Activation. Your choice of activation function.\n",
        "\n",
        "Pooling. The output shape should be 14x14x6.\n",
        "\n",
        "Layer 2 (Convolutional): The output shape should be 10x10x16.\n",
        "\n",
        "Activation. Your choice of activation function.\n",
        "\n",
        "Pooling. The output shape should be 5x5x16.\n",
        "\n",
        "Flattening: Flatten the output shape of the final pooling layer such that it's 1D instead of 3D.\n",
        "\n",
        "Layer 3 (Fully Connected): This should have 120 outputs.\n",
        "\n",
        "Activation. Your choice of activation function.\n",
        "\n",
        "Layer 4 (Fully Connected): This should have 84 outputs.\n",
        "\n",
        "Activation. Your choice of activation function.\n",
        "\n",
        "Layer 5 (Fully Connected): This should have 43 outputs."
      ]
    },
    {
      "cell_type": "code",
      "metadata": {
        "id": "fZM_mp2Q_x2a"
      },
      "source": [
        "class LaNet:  \n",
        "\n",
        "    def __init__(self, n_out=43, mu=0, sigma=0.1, learning_rate=0.001):\n",
        "        # Hyperparameters\n",
        "        self.mu = mu\n",
        "        self.sigma = sigma\n",
        "\n",
        "        # Layer 1 (Convolutional): Input = 32x32x1. Output = 28x28x6.\n",
        "        self.filter1_width = 5\n",
        "        self.filter1_height = 5\n",
        "        self.input1_channels = 1\n",
        "        self.conv1_output = 6\n",
        "        # Weight and bias\n",
        "        self.conv1_weight = tf.Variable(tf.truncated_normal(\n",
        "            shape=(self.filter1_width, self.filter1_height, self.input1_channels, self.conv1_output),\n",
        "            mean = self.mu, stddev = self.sigma))\n",
        "        self.conv1_bias = tf.Variable(tf.zeros(self.conv1_output))\n",
        "        # Apply Convolution\n",
        "        self.conv1 = tf.nn.conv2d(x, self.conv1_weight, strides=[1, 1, 1, 1], padding='VALID') + self.conv1_bias\n",
        "        \n",
        "        # Activation:\n",
        "        self.conv1 = tf.nn.relu(self.conv1)\n",
        "        \n",
        "        # Pooling: Input = 28x28x6. Output = 14x14x6.\n",
        "        self.conv1 = tf.nn.max_pool(self.conv1, ksize=[1, 2, 2, 1], strides=[1, 2, 2, 1], padding='VALID')\n",
        "        \n",
        "        # Layer 2 (Convolutional): Output = 10x10x16.\n",
        "        self.filter2_width = 5\n",
        "        self.filter2_height = 5\n",
        "        self.input2_channels = 6\n",
        "        self.conv2_output = 16\n",
        "        # Weight and bias\n",
        "        self.conv2_weight = tf.Variable(tf.truncated_normal(\n",
        "            shape=(self.filter2_width, self.filter2_height, self.input2_channels, self.conv2_output),\n",
        "            mean = self.mu, stddev = self.sigma))\n",
        "        self.conv2_bias = tf.Variable(tf.zeros(self.conv2_output))\n",
        "        # Apply Convolution\n",
        "        self.conv2 = tf.nn.conv2d(self.conv1, self.conv2_weight, strides=[1, 1, 1, 1], padding='VALID') + self.conv2_bias\n",
        "        \n",
        "        # Activation:\n",
        "        self.conv2 = tf.nn.relu(self.conv2)\n",
        "        \n",
        "        # Pooling: Input = 10x10x16. Output = 5x5x16.\n",
        "        self.conv2 = tf.nn.max_pool(self.conv2, ksize=[1, 2, 2, 1], strides=[1, 2, 2, 1], padding='VALID')\n",
        "        \n",
        "        # Flattening: Input = 5x5x16. Output = 400.\n",
        "        self.fully_connected0 = flatten(self.conv2)\n",
        "        \n",
        "        # Layer 3 (Fully Connected): Input = 400. Output = 120.\n",
        "        self.connected1_weights = tf.Variable(tf.truncated_normal(shape=(400, 120), mean = self.mu, stddev = self.sigma))\n",
        "        self.connected1_bias = tf.Variable(tf.zeros(120))\n",
        "        self.fully_connected1 = tf.add((tf.matmul(self.fully_connected0, self.connected1_weights)), self.connected1_bias)\n",
        "        \n",
        "        # Activation:\n",
        "        self.fully_connected1 = tf.nn.relu(self.fully_connected1)\n",
        "    \n",
        "        # Layer 4 (Fully Connected): Input = 120. Output = 84.\n",
        "        self.connected2_weights = tf.Variable(tf.truncated_normal(shape=(120, 84), mean = self.mu, stddev = self.sigma))\n",
        "        self.connected2_bias = tf.Variable(tf.zeros(84))\n",
        "        self.fully_connected2 = tf.add((tf.matmul(self.fully_connected1, self.connected2_weights)), self.connected2_bias)\n",
        "        \n",
        "        # Activation.\n",
        "        self.fully_connected2 = tf.nn.relu(self.fully_connected2)\n",
        "    \n",
        "        # Layer 5 (Fully Connected): Input = 84. Output = 43.\n",
        "        self.output_weights = tf.Variable(tf.truncated_normal(shape=(84, 43), mean = self.mu, stddev = self.sigma))\n",
        "        self.output_bias = tf.Variable(tf.zeros(43))\n",
        "        self.logits =  tf.add((tf.matmul(self.fully_connected2, self.output_weights)), self.output_bias)\n",
        "\n",
        "        # Training operation\n",
        "        self.one_hot_y = tf.one_hot(y, n_out)\n",
        "        self.cross_entropy = tf.nn.softmax_cross_entropy_with_logits_v2(logits=self.logits, labels=self.one_hot_y)\n",
        "        self.loss_operation = tf.reduce_mean(self.cross_entropy)\n",
        "        self.optimizer = tf.train.AdamOptimizer(learning_rate = learning_rate)\n",
        "        self.training_operation = self.optimizer.minimize(self.loss_operation)\n",
        "\n",
        "        # Accuracy operation\n",
        "        self.correct_prediction = tf.equal(tf.argmax(self.logits, 1), tf.argmax(self.one_hot_y, 1))\n",
        "        self.accuracy_operation = tf.reduce_mean(tf.cast(self.correct_prediction, tf.float32))\n",
        "\n",
        "        # Saving all variables\n",
        "        self.saver = tf.train.Saver()\n",
        "    \n",
        "\n",
        "\n",
        "    def y_predict(self, X_data, BATCH_SIZE=64):\n",
        "        num_examples = len(X_data)\n",
        "        y_pred = np.zeros(num_examples, dtype=np.int32)\n",
        "        sess = tf.get_default_session()\n",
        "        for offset in range(0, num_examples, BATCH_SIZE):\n",
        "            batch_x = X_data[offset:offset+BATCH_SIZE]\n",
        "            y_pred[offset:offset+BATCH_SIZE] = sess.run(tf.argmax(self.logits, 1), \n",
        "                               feed_dict={x:batch_x, keep_prob:1, keep_prob_conv:1})\n",
        "        return y_pred\n",
        "    \n",
        "\n",
        "    \n",
        "    def evaluate(self, X_data, y_data, BATCH_SIZE=64):\n",
        "        num_examples = len(X_data)\n",
        "        total_accuracy = 0\n",
        "        sess = tf.get_default_session()\n",
        "        for offset in range(0, num_examples, BATCH_SIZE):\n",
        "            batch_x, batch_y = X_data[offset:offset+BATCH_SIZE], y_data[offset:offset+BATCH_SIZE]\n",
        "            accuracy = sess.run(self.accuracy_operation, \n",
        "                                feed_dict={x: batch_x, y: batch_y, keep_prob: 1.0, keep_prob_conv: 1.0 })\n",
        "            total_accuracy += (accuracy * len(batch_x))\n",
        "        return total_accuracy / num_examples"
      ],
      "execution_count": null,
      "outputs": []
    },
    {
      "cell_type": "markdown",
      "metadata": {
        "id": "_bIdDOUO9SXC"
      },
      "source": [
        "**5.2 VGGNet**"
      ]
    },
    {
      "cell_type": "markdown",
      "metadata": {
        "id": "yDXpNK-U9bAV"
      },
      "source": [
        "VGGNet was first introduced in 2014 by K. Simonyan and A. Zisserman from the University of Oxford in a paper called Very Deep Convolutional Networks for Large-Scale Image Recognition. They were investigating the convolutional network depth on its accuracy in the large-scale image recognition setting. Their main contribution is a thorough evaluation of networks of increasing depth using an architecture with very small (3x3) convolution filters, which shows that a significant improvement on the prior-art configurations can be achieved by pushing the depth to 16-19 weight layers.\n",
        "\n",
        "VGGNet architecture:\n",
        "\n",
        "The original VGGNet architecture has 16-19 layers, but I've excluded some of them and implemented a modified version of only 12 layers to save computational resources.\n",
        "\n",
        "This ConvNet follows these steps:\n",
        "\n",
        "Input => Convolution => ReLU => Convolution => ReLU => Pooling => Convolution => ReLU => Convolution => ReLU => Pooling => Convolution => ReLU => Convolution => ReLU => Pooling => FullyConnected => ReLU => FullyConnected => ReLU => FullyConnected\n",
        "\n",
        "Layer 1 (Convolutional): The output shape should be 32x32x32.\n",
        "\n",
        "Activation. Your choice of activation function.\n",
        "\n",
        "Layer 2 (Convolutional): The output shape should be 32x32x32.\n",
        "\n",
        "Activation. Your choice of activation function.\n",
        "\n",
        "Layer 3 (Pooling) The output shape should be 16x16x32.\n",
        "\n",
        "Layer 4 (Convolutional): The output shape should be 16x16x64.\n",
        "\n",
        "Activation. Your choice of activation function.\n",
        "\n",
        "Layer 5 (Convolutional): The output shape should be 16x16x64.\n",
        "\n",
        "Activation. Your choice of activation function.\n",
        "\n",
        "Layer 6 (Pooling) The output shape should be 8x8x64.\n",
        "\n",
        "Layer 7 (Convolutional): The output shape should be 8x8x128.\n",
        "\n",
        "Activation. Your choice of activation function.\n",
        "\n",
        "Layer 8 (Convolutional): The output shape should be 8x8x128.\n",
        "\n",
        "Activation. Your choice of activation function.\n",
        "\n",
        "Layer 9 (Pooling) The output shape should be 4x4x128.\n",
        "\n",
        "Flattening: Flatten the output shape of the final pooling layer such that it's 1D instead of 3D.\n",
        "\n",
        "Layer 10 (Fully Connected): This should have 128 outputs.\n",
        "\n",
        "Activation. Your choice of activation function.\n",
        "\n",
        "Layer 11 (Fully Connected): This should have 128 outputs.\n",
        "\n",
        "Activation. Your choice of activation function.\n",
        "\n",
        "Layer 12 (Fully Connected): This should have 43 outputs."
      ]
    },
    {
      "cell_type": "code",
      "metadata": {
        "id": "szW7a4q087p7"
      },
      "source": [
        "class VGGnet:  \n",
        "\n",
        "    def __init__(self, n_out=43, mu=0, sigma=0.1, learning_rate=0.001):\n",
        "        # Hyperparameters\n",
        "        self.mu = mu\n",
        "        self.sigma = sigma\n",
        "\n",
        "        # Layer 1 (Convolutional): Input = 32x32x1. Output = 32x32x32.\n",
        "        self.conv1_W = tf.Variable(tf.truncated_normal(shape=(3, 3, 1, 32), mean = self.mu, stddev = self.sigma))\n",
        "        self.conv1_b = tf.Variable(tf.zeros(32))\n",
        "        self.conv1   = tf.nn.conv2d(x, self.conv1_W, strides=[1, 1, 1, 1], padding='SAME') + self.conv1_b\n",
        "\n",
        "        # ReLu Activation.\n",
        "        self.conv1 = tf.nn.relu(self.conv1)\n",
        "\n",
        "        # Layer 2 (Convolutional): Input = 32x32x32. Output = 32x32x32.\n",
        "        self.conv2_W = tf.Variable(tf.truncated_normal(shape=(3, 3, 32, 32), mean = self.mu, stddev = self.sigma))\n",
        "        self.conv2_b = tf.Variable(tf.zeros(32))\n",
        "        self.conv2   = tf.nn.conv2d(self.conv1, self.conv2_W, strides=[1, 1, 1, 1], padding='SAME') + self.conv2_b\n",
        "\n",
        "        # ReLu Activation.\n",
        "        self.conv2 = tf.nn.relu(self.conv2)\n",
        "\n",
        "        # Layer 3 (Pooling): Input = 32x32x32. Output = 16x16x32.\n",
        "        self.conv2 = tf.nn.max_pool(self.conv2, ksize=[1, 2, 2, 1], strides=[1, 2, 2, 1], padding='VALID')\n",
        "        self.conv2 = tf.nn.dropout(self.conv2, keep_prob_conv)\n",
        "\n",
        "        # Layer 4 (Convolutional): Input = 16x16x32. Output = 16x16x64.\n",
        "        self.conv3_W = tf.Variable(tf.truncated_normal(shape=(3, 3, 32, 64), mean = self.mu, stddev = self.sigma))\n",
        "        self.conv3_b = tf.Variable(tf.zeros(64))\n",
        "        self.conv3   = tf.nn.conv2d(self.conv2, self.conv3_W, strides=[1, 1, 1, 1], padding='SAME') + self.conv3_b\n",
        "\n",
        "        # ReLu Activation.\n",
        "        self.conv3 = tf.nn.relu(self.conv3)\n",
        "\n",
        "        # Layer 5 (Convolutional): Input = 16x16x64. Output = 16x16x64.\n",
        "        self.conv4_W = tf.Variable(tf.truncated_normal(shape=(3, 3, 64, 64), mean = self.mu, stddev = self.sigma))\n",
        "        self.conv4_b = tf.Variable(tf.zeros(64))\n",
        "        self.conv4   = tf.nn.conv2d(self.conv3, self.conv4_W, strides=[1, 1, 1, 1], padding='SAME') + self.conv4_b\n",
        "\n",
        "        # ReLu Activation.\n",
        "        self.conv4 = tf.nn.relu(self.conv4)\n",
        "\n",
        "        # Layer 6 (Pooling): Input = 16x16x64. Output = 8x8x64.\n",
        "        self.conv4 = tf.nn.max_pool(self.conv4, ksize=[1, 2, 2, 1], strides=[1, 2, 2, 1], padding='VALID')\n",
        "        self.conv4 = tf.nn.dropout(self.conv4, keep_prob_conv) # dropout\n",
        "\n",
        "        # Layer 7 (Convolutional): Input = 8x8x64. Output = 8x8x128.\n",
        "        self.conv5_W = tf.Variable(tf.truncated_normal(shape=(3, 3, 64, 128), mean = self.mu, stddev = self.sigma))\n",
        "        self.conv5_b = tf.Variable(tf.zeros(128))\n",
        "        self.conv5   = tf.nn.conv2d(self.conv4, self.conv5_W, strides=[1, 1, 1, 1], padding='SAME') + self.conv5_b\n",
        "\n",
        "        # ReLu Activation.\n",
        "        self.conv5 = tf.nn.relu(self.conv5)\n",
        "\n",
        "        # Layer 8 (Convolutional): Input = 8x8x128. Output = 8x8x128.\n",
        "        self.conv6_W = tf.Variable(tf.truncated_normal(shape=(3, 3, 128, 128), mean = self.mu, stddev = self.sigma))\n",
        "        self.conv6_b = tf.Variable(tf.zeros(128))\n",
        "        self.conv6   = tf.nn.conv2d(self.conv5, self.conv6_W, strides=[1, 1, 1, 1], padding='SAME') + self.conv6_b\n",
        "\n",
        "        # ReLu Activation.\n",
        "        self.conv6 = tf.nn.relu(self.conv6)\n",
        "\n",
        "        # Layer 9 (Pooling): Input = 8x8x128. Output = 4x4x128.\n",
        "        self.conv6 = tf.nn.max_pool(self.conv6, ksize=[1, 2, 2, 1], strides=[1, 2, 2, 1], padding='VALID')\n",
        "        self.conv6 = tf.nn.dropout(self.conv6, keep_prob_conv) # dropout\n",
        "\n",
        "        # Flatten. Input = 4x4x128. Output = 2048.\n",
        "        self.fc0   = flatten(self.conv6)\n",
        "\n",
        "        # Layer 10 (Fully Connected): Input = 2048. Output = 128.\n",
        "        self.fc1_W = tf.Variable(tf.truncated_normal(shape=(2048, 128), mean = self.mu, stddev = self.sigma))\n",
        "        self.fc1_b = tf.Variable(tf.zeros(128))\n",
        "        self.fc1   = tf.matmul(self.fc0, self.fc1_W) + self.fc1_b\n",
        "\n",
        "        # ReLu Activation.\n",
        "        self.fc1    = tf.nn.relu(self.fc1)\n",
        "        self.fc1    = tf.nn.dropout(self.fc1, keep_prob) # dropout\n",
        "\n",
        "        # Layer 11 (Fully Connected): Input = 128. Output = 128.\n",
        "        self.fc2_W  = tf.Variable(tf.truncated_normal(shape=(128, 128), mean = self.mu, stddev = self.sigma))\n",
        "        self.fc2_b  = tf.Variable(tf.zeros(128))\n",
        "        self.fc2    = tf.matmul(self.fc1, self.fc2_W) + self.fc2_b\n",
        "\n",
        "        # ReLu Activation.\n",
        "        self.fc2    = tf.nn.relu(self.fc2)\n",
        "        self.fc2    = tf.nn.dropout(self.fc2, keep_prob) # dropout\n",
        "\n",
        "        # Layer 12 (Fully Connected): Input = 128. Output = n_out.\n",
        "        self.fc3_W  = tf.Variable(tf.truncated_normal(shape=(128, n_out), mean = self.mu, stddev = self.sigma))\n",
        "        self.fc3_b  = tf.Variable(tf.zeros(n_out))\n",
        "        self.logits = tf.matmul(self.fc2, self.fc3_W) + self.fc3_b\n",
        "\n",
        "        # Training operation\n",
        "        self.one_hot_y = tf.one_hot(y, n_out)\n",
        "        self.cross_entropy = tf.nn.softmax_cross_entropy_with_logits_v2(logits=self.logits, labels=self.one_hot_y)\n",
        "        self.loss_operation = tf.reduce_mean(self.cross_entropy)\n",
        "        self.optimizer = tf.train.AdamOptimizer(learning_rate = learning_rate)\n",
        "        self.training_operation = self.optimizer.minimize(self.loss_operation)\n",
        "\n",
        "        # Accuracy operation\n",
        "        self.correct_prediction = tf.equal(tf.argmax(self.logits, 1), tf.argmax(self.one_hot_y, 1))\n",
        "        self.accuracy_operation = tf.reduce_mean(tf.cast(self.correct_prediction, tf.float32))\n",
        "\n",
        "        # Saving all variables\n",
        "        self.saver = tf.train.Saver()\n",
        "        \n",
        "    def y_predict(self, X_data, BATCH_SIZE=64):\n",
        "        num_examples = len(X_data)\n",
        "        y_pred = np.zeros(num_examples, dtype=np.int32)\n",
        "        sess = tf.get_default_session()\n",
        "        for offset in range(0, num_examples, BATCH_SIZE):\n",
        "            batch_x = X_data[offset:offset+BATCH_SIZE]\n",
        "            y_pred[offset:offset+BATCH_SIZE] = sess.run(tf.argmax(self.logits, 1), \n",
        "                               feed_dict={x:batch_x, keep_prob:1, keep_prob_conv:1})\n",
        "        return y_pred\n",
        "    \n",
        "    def evaluate(self, X_data, y_data, BATCH_SIZE=64):\n",
        "        num_examples = len(X_data)\n",
        "        total_accuracy = 0\n",
        "        sess = tf.get_default_session()\n",
        "        for offset in range(0, num_examples, BATCH_SIZE):\n",
        "            batch_x, batch_y = X_data[offset:offset+BATCH_SIZE], y_data[offset:offset+BATCH_SIZE]\n",
        "            accuracy = sess.run(self.accuracy_operation, \n",
        "                                feed_dict={x: batch_x, y: batch_y, keep_prob: 1.0, keep_prob_conv: 1.0 })\n",
        "            total_accuracy += (accuracy * len(batch_x))\n",
        "        return total_accuracy / num_examples"
      ],
      "execution_count": null,
      "outputs": []
    },
    {
      "cell_type": "markdown",
      "metadata": {
        "id": "qgI6KgCz_y1r"
      },
      "source": [
        "**6. Model Training and Evaluation**"
      ]
    },
    {
      "cell_type": "code",
      "metadata": {
        "id": "lPapDTnQ_v86",
        "colab": {
          "base_uri": "https://localhost:8080/"
        },
        "outputId": "c30f600a-f064-45d8-f414-eeb688ff97a3"
      },
      "source": [
        "import tensorflow as tf\n",
        "import tensorflow.compat.v1 as tf\n",
        "tf.disable_v2_behavior() \n",
        "from tensorflow.compat.v1.layers import flatten\n",
        "#  tf.compat.v1.layers.flatten\n",
        "# from tensorflow.contrib.layers import flatten\n",
        "x= tf.placeholder(tf.float32, (None, 32, 32, 1))\n",
        "y = tf.placeholder(tf.int32, (None))\n",
        "keep_prob = tf.placeholder(tf.float32)       # For fully-connected layers\n",
        "keep_prob_conv = tf.placeholder(tf.float32)  # For convolutional layers"
      ],
      "execution_count": null,
      "outputs": [
        {
          "output_type": "stream",
          "text": [
            "WARNING:tensorflow:From /usr/local/lib/python3.7/dist-packages/tensorflow/python/compat/v2_compat.py:96: disable_resource_variables (from tensorflow.python.ops.variable_scope) is deprecated and will be removed in a future version.\n",
            "Instructions for updating:\n",
            "non-resource variables are not supported in the long term\n"
          ],
          "name": "stdout"
        }
      ]
    },
    {
      "cell_type": "code",
      "metadata": {
        "id": "47YGjEb8BG3X"
      },
      "source": [
        "# Preprocessing Validation Dataset\n",
        "X_valid_preprocessed = preprocess(x_valid)"
      ],
      "execution_count": null,
      "outputs": []
    },
    {
      "cell_type": "code",
      "metadata": {
        "id": "F4A3ZtmTDn-P"
      },
      "source": [
        "EPOCHS = 30\n",
        "BATCH_SIZE = 64\n",
        "DIR = 'Saved_Models_Major'\n",
        "n_classes=len(lables)"
      ],
      "execution_count": null,
      "outputs": []
    },
    {
      "cell_type": "markdown",
      "metadata": {
        "id": "VhNECMHAGkrG"
      },
      "source": [
        "**Training LeNet and Accuracy:**\n",
        "\n",
        "\n"
      ]
    },
    {
      "cell_type": "code",
      "metadata": {
        "colab": {
          "base_uri": "https://localhost:8080/"
        },
        "id": "c3GfEZG9GZli",
        "outputId": "8b2d4137-31c0-4be0-e2ff-e6a815940c84"
      },
      "source": [
        "LeNet_Model = LaNet(n_out = n_classes)\n",
        "model_name = \"LeNet\"\n",
        "\n",
        "with tf.Session() as sess:\n",
        "    sess.run(tf.global_variables_initializer())\n",
        "    num_examples = len(y_train)\n",
        "    print(\"Training ...\")\n",
        "    print()\n",
        "    for i in range(EPOCHS):\n",
        "        normalized_images, y_train = shuffle(normalized_images, y_train)\n",
        "        for offset in range(0, num_examples, BATCH_SIZE):\n",
        "            end = offset + BATCH_SIZE\n",
        "            batch_x, batch_y = normalized_images[offset:end], y_train[offset:end]\n",
        "            sess.run(LeNet_Model.training_operation, feed_dict={x: batch_x, y: batch_y, keep_prob : 0.5, keep_prob_conv: 0.7})\n",
        "            \n",
        "        validation_accuracy = LeNet_Model.evaluate(X_valid_preprocessed, y_valid)\n",
        "        print(\"EPOCH {} : Validation Accuracy = {:.3f}%\".format(i+1, (validation_accuracy*100)))\n",
        "    LeNet_Model.saver.save(sess, os.path.join(DIR, model_name))\n",
        "    print(\"Model saved\")"
      ],
      "execution_count": null,
      "outputs": [
        {
          "output_type": "stream",
          "text": [
            "/usr/local/lib/python3.7/dist-packages/tensorflow/python/keras/legacy_tf_layers/core.py:329: UserWarning: `tf.layers.flatten` is deprecated and will be removed in a future version. Please use `tf.keras.layers.Flatten` instead.\n",
            "  warnings.warn('`tf.layers.flatten` is deprecated and '\n",
            "/usr/local/lib/python3.7/dist-packages/tensorflow/python/keras/engine/base_layer_v1.py:1719: UserWarning: `layer.apply` is deprecated and will be removed in a future version. Please use `layer.__call__` method instead.\n",
            "  warnings.warn('`layer.apply` is deprecated and '\n"
          ],
          "name": "stderr"
        },
        {
          "output_type": "stream",
          "text": [
            "Training ...\n",
            "\n",
            "EPOCH 1 : Validation Accuracy = 79.569%\n",
            "EPOCH 2 : Validation Accuracy = 87.279%\n",
            "EPOCH 3 : Validation Accuracy = 90.000%\n",
            "EPOCH 4 : Validation Accuracy = 90.272%\n",
            "EPOCH 5 : Validation Accuracy = 90.181%\n",
            "EPOCH 6 : Validation Accuracy = 89.093%\n",
            "EPOCH 7 : Validation Accuracy = 91.723%\n",
            "EPOCH 8 : Validation Accuracy = 91.587%\n",
            "EPOCH 9 : Validation Accuracy = 92.154%\n",
            "EPOCH 10 : Validation Accuracy = 92.132%\n",
            "EPOCH 11 : Validation Accuracy = 90.227%\n",
            "EPOCH 12 : Validation Accuracy = 92.812%\n",
            "EPOCH 13 : Validation Accuracy = 91.247%\n",
            "EPOCH 14 : Validation Accuracy = 91.156%\n",
            "EPOCH 15 : Validation Accuracy = 92.630%\n",
            "EPOCH 16 : Validation Accuracy = 92.766%\n",
            "EPOCH 17 : Validation Accuracy = 92.313%\n",
            "EPOCH 18 : Validation Accuracy = 92.290%\n",
            "EPOCH 19 : Validation Accuracy = 92.789%\n",
            "EPOCH 20 : Validation Accuracy = 93.787%\n",
            "EPOCH 21 : Validation Accuracy = 93.016%\n",
            "EPOCH 22 : Validation Accuracy = 92.971%\n",
            "EPOCH 23 : Validation Accuracy = 91.769%\n",
            "EPOCH 24 : Validation Accuracy = 93.787%\n",
            "EPOCH 25 : Validation Accuracy = 92.177%\n",
            "EPOCH 26 : Validation Accuracy = 93.379%\n",
            "EPOCH 27 : Validation Accuracy = 93.039%\n",
            "EPOCH 28 : Validation Accuracy = 94.104%\n",
            "EPOCH 29 : Validation Accuracy = 91.678%\n",
            "EPOCH 30 : Validation Accuracy = 93.787%\n",
            "Model saved\n"
          ],
          "name": "stdout"
        }
      ]
    },
    {
      "cell_type": "markdown",
      "metadata": {
        "id": "OrO15x4nTgOh"
      },
      "source": [
        "**Training VGGNet Model and Accuracy:**"
      ]
    },
    {
      "cell_type": "code",
      "metadata": {
        "colab": {
          "base_uri": "https://localhost:8080/"
        },
        "id": "gu1We3zgG4t8",
        "outputId": "ca4e7a30-18d3-4a98-e1ca-5e5e29f033c1"
      },
      "source": [
        "VGGNet_Model = VGGnet(n_out = n_classes)\n",
        "model_name = \"VGGNet\"\n",
        "\n",
        "# Validation set preprocessing\n",
        "# X_valid_preprocessed = preprocess(X_valid)\n",
        "one_hot_y_valid = tf.one_hot(y_valid, 43)\n",
        "\n",
        "with tf.Session() as sess:\n",
        "    sess.run(tf.global_variables_initializer())\n",
        "    num_examples = len(y_train)\n",
        "    print(\"Training...\")\n",
        "    print()\n",
        "    for i in range(EPOCHS):\n",
        "        normalized_images, y_train = shuffle(normalized_images, y_train)\n",
        "        for offset in range(0, num_examples, BATCH_SIZE):\n",
        "            end = offset + BATCH_SIZE\n",
        "            batch_x, batch_y = normalized_images[offset:end], y_train[offset:end]\n",
        "            sess.run(VGGNet_Model.training_operation, \n",
        "            feed_dict={x: batch_x, y: batch_y, keep_prob : 0.5, keep_prob_conv: 0.7})\n",
        "\n",
        "        validation_accuracy = VGGNet_Model.evaluate(X_valid_preprocessed, y_valid)\n",
        "        print(\"EPOCH {} : Validation Accuracy = {:.3f}%\".format(i+1, (validation_accuracy*100)))\n",
        "    VGGNet_Model.saver.save(sess, os.path.join(DIR, model_name))\n",
        "    print(\"Model saved\")"
      ],
      "execution_count": null,
      "outputs": [
        {
          "output_type": "stream",
          "text": [
            "WARNING:tensorflow:From /usr/local/lib/python3.7/dist-packages/tensorflow/python/util/dispatch.py:201: calling dropout (from tensorflow.python.ops.nn_ops) with keep_prob is deprecated and will be removed in a future version.\n",
            "Instructions for updating:\n",
            "Please use `rate` instead of `keep_prob`. Rate should be set to `rate = 1 - keep_prob`.\n"
          ],
          "name": "stdout"
        },
        {
          "output_type": "stream",
          "text": [
            "/usr/local/lib/python3.7/dist-packages/tensorflow/python/keras/legacy_tf_layers/core.py:329: UserWarning: `tf.layers.flatten` is deprecated and will be removed in a future version. Please use `tf.keras.layers.Flatten` instead.\n",
            "  warnings.warn('`tf.layers.flatten` is deprecated and '\n",
            "/usr/local/lib/python3.7/dist-packages/tensorflow/python/keras/engine/base_layer_v1.py:1719: UserWarning: `layer.apply` is deprecated and will be removed in a future version. Please use `layer.__call__` method instead.\n",
            "  warnings.warn('`layer.apply` is deprecated and '\n"
          ],
          "name": "stderr"
        },
        {
          "output_type": "stream",
          "text": [
            "Training...\n",
            "\n",
            "EPOCH 1 : Validation Accuracy = 33.107%\n",
            "EPOCH 2 : Validation Accuracy = 69.569%\n",
            "EPOCH 3 : Validation Accuracy = 82.925%\n",
            "EPOCH 4 : Validation Accuracy = 89.206%\n",
            "EPOCH 5 : Validation Accuracy = 94.263%\n",
            "EPOCH 6 : Validation Accuracy = 94.875%\n",
            "EPOCH 7 : Validation Accuracy = 96.032%\n",
            "EPOCH 8 : Validation Accuracy = 97.256%\n",
            "EPOCH 9 : Validation Accuracy = 97.234%\n",
            "EPOCH 10 : Validation Accuracy = 97.800%\n",
            "EPOCH 11 : Validation Accuracy = 98.254%\n",
            "EPOCH 12 : Validation Accuracy = 98.821%\n",
            "EPOCH 13 : Validation Accuracy = 98.707%\n",
            "EPOCH 14 : Validation Accuracy = 98.322%\n",
            "EPOCH 15 : Validation Accuracy = 98.639%\n",
            "EPOCH 16 : Validation Accuracy = 98.277%\n",
            "EPOCH 17 : Validation Accuracy = 98.617%\n",
            "EPOCH 18 : Validation Accuracy = 98.730%\n",
            "EPOCH 19 : Validation Accuracy = 98.776%\n",
            "EPOCH 20 : Validation Accuracy = 98.821%\n",
            "EPOCH 21 : Validation Accuracy = 98.753%\n",
            "EPOCH 22 : Validation Accuracy = 98.707%\n",
            "EPOCH 23 : Validation Accuracy = 98.730%\n",
            "EPOCH 24 : Validation Accuracy = 98.753%\n",
            "EPOCH 25 : Validation Accuracy = 98.912%\n",
            "EPOCH 26 : Validation Accuracy = 98.730%\n",
            "EPOCH 27 : Validation Accuracy = 99.048%\n",
            "EPOCH 28 : Validation Accuracy = 99.206%\n",
            "EPOCH 29 : Validation Accuracy = 98.866%\n",
            "EPOCH 30 : Validation Accuracy = 98.798%\n",
            "Model saved\n"
          ],
          "name": "stdout"
        }
      ]
    },
    {
      "cell_type": "markdown",
      "metadata": {
        "id": "qrhNQrY2CQzm"
      },
      "source": [
        "**Testing**"
      ]
    },
    {
      "cell_type": "code",
      "metadata": {
        "colab": {
          "base_uri": "https://localhost:8080/"
        },
        "id": "U-f7Ec8jCT8s",
        "outputId": "14a94584-06d7-4d88-b77d-40bc95449125"
      },
      "source": [
        "# VGGNet\n",
        "X_test_preprocessed = preprocess(x_test)\n",
        "with tf.Session() as sess:\n",
        "    VGGNet_Model.saver.restore(sess, os.path.join(DIR, \"VGGNet\"))\n",
        "    y_pred = VGGNet_Model.y_predict(X_test_preprocessed)\n",
        "    test_accuracy = sum(y_test == y_pred)/len(y_test)\n",
        "    print(\"Test Accuracy = {:.1f}%\".format(test_accuracy*100))"
      ],
      "execution_count": null,
      "outputs": [
        {
          "output_type": "stream",
          "text": [
            "INFO:tensorflow:Restoring parameters from Saved_Models_Major/VGGNet\n",
            "Test Accuracy = 97.1%\n"
          ],
          "name": "stdout"
        }
      ]
    },
    {
      "cell_type": "code",
      "metadata": {
        "colab": {
          "base_uri": "https://localhost:8080/"
        },
        "id": "cChlptdMcY9D",
        "outputId": "28095328-4dbf-40bf-be33-5313028fadce"
      },
      "source": [
        "# LeNet\n",
        "X_test_preprocessed = preprocess(x_test)\n",
        "with tf.Session() as sess:\n",
        "    LeNet_Model.saver.restore(sess, os.path.join(DIR, \"LeNet\"))\n",
        "    y_pred = LeNet_Model.y_predict(X_test_preprocessed)\n",
        "    test_accuracy = sum(y_test == y_pred)/len(y_test)\n",
        "    print(\"Test Accuracy = {:.1f}%\".format(test_accuracy*100))"
      ],
      "execution_count": null,
      "outputs": [
        {
          "output_type": "stream",
          "text": [
            "INFO:tensorflow:Restoring parameters from Saved_Models_Major/LeNet\n",
            "Test Accuracy = 92.3%\n"
          ],
          "name": "stdout"
        }
      ]
    },
    {
      "cell_type": "code",
      "metadata": {
        "colab": {
          "base_uri": "https://localhost:8080/",
          "height": 295
        },
        "id": "3sj_JXPgC-07",
        "outputId": "ef958082-b263-4fbe-d58c-d76f34b50b04"
      },
      "source": [
        "from sklearn.metrics import confusion_matrix\n",
        "cm = confusion_matrix(y_test, y_pred)\n",
        "cm = cm.astype('float') / cm.sum(axis=1)[:, np.newaxis]\n",
        "cm = np.log(.0001 + cm)\n",
        "plt.imshow(cm, interpolation='nearest', cmap=plt.cm.Oranges)\n",
        "plt.title('Log of normalized Confusion Matrix')\n",
        "plt.ylabel('True label')\n",
        "plt.xlabel('Predicted label')\n",
        "plt.show()"
      ],
      "execution_count": null,
      "outputs": [
        {
          "output_type": "display_data",
          "data": {
            "image/png": "[encoded data removed]",
            "text/plain": [
              "<Figure size 432x288 with 1 Axes>"
            ]
          },
          "metadata": {
            "tags": [],
            "needs_background": "light"
          }
        }
      ]
    },
    {
      "cell_type": "code",
      "metadata": {
        "id": "f9VlOq_dcz-t"
      },
      "source": [
        ""
      ],
      "execution_count": null,
      "outputs": []
    }
  ]
}